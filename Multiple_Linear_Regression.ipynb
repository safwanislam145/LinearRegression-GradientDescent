{
 "cells": [
  {
   "cell_type": "markdown",
   "metadata": {},
   "source": [
    "1.1 Goals\n",
    "\n",
    "Extend the regression model routines to support multiple features\n",
    "\n",
    "Extend data structures to support multiple features\n",
    "\n",
    "Rewrite prediction, cost and gradient routines to support multiple features\n",
    "\n",
    "Utilize NumPy np.dot to vectorize their implementations for speed and simplicity"
   ]
  },
  {
   "cell_type": "code",
   "execution_count": 3,
   "metadata": {},
   "outputs": [],
   "source": [
    "import copy, math\n",
    "import numpy as np\n",
    "import matplotlib.pyplot as plt"
   ]
  },
  {
   "cell_type": "code",
   "execution_count": 6,
   "metadata": {},
   "outputs": [],
   "source": [
    "# You will build a linear regression model using these values so you can then predict the price for other houses. For example, a house with 1200 sqft, 3 bedrooms, 1 floor, 40 years old.\n",
    "\n",
    "X_train = np.array([[2104, 5, 1, 45],[1416, 3, 2, 40], [852, 2, 1, 36]])\n",
    "y_train = np.array([460, 232, 178])"
   ]
  },
  {
   "cell_type": "code",
   "execution_count": 9,
   "metadata": {},
   "outputs": [
    {
     "name": "stdout",
     "output_type": "stream",
     "text": [
      "X Shape: (3, 4), X Type: <class 'numpy.ndarray'>\n",
      "[[2104    5    1   45]\n",
      " [1416    3    2   40]\n",
      " [ 852    2    1   36]]\n",
      "y Shape: (3,), y Type: <class 'numpy.ndarray'>\n",
      "[460 232 178]\n"
     ]
    }
   ],
   "source": [
    "# data is stored in a numpy array\n",
    "\n",
    "print(f\"X Shape: {X_train.shape}, X Type: {type(X_train)}\")\n",
    "print(X_train)\n",
    "print(f\"y Shape: {y_train.shape}, y Type: {type(y_train)}\")\n",
    "print(y_train)"
   ]
  },
  {
   "cell_type": "code",
   "execution_count": 12,
   "metadata": {},
   "outputs": [
    {
     "name": "stdout",
     "output_type": "stream",
     "text": [
      "b_init.type: <class 'float'> and w_init.shape: (4,)\n"
     ]
    }
   ],
   "source": [
    "# For demonstration,  𝐰 and  𝑏 will be loaded with some initial selected values that are near the optimal.  \n",
    "# 𝐰 is a 1-D NumPy vector.\n",
    "\n",
    "b_init = 785.1811367994083\n",
    "w_init = np.array([0.39133535, 18.75376741, -53.36032453, -26.42131618])\n",
    "print(f\"b_init.type: {type(b_init)} and w_init.shape: {w_init.shape}\")"
   ]
  },
  {
   "cell_type": "code",
   "execution_count": 13,
   "metadata": {},
   "outputs": [],
   "source": [
    "# Single prediction using linear regression\n",
    "def predict_single_loop(x, w, b):\n",
    "    \"\"\"\n",
    "    single predict using linear regression\n",
    "    \n",
    "    Args:\n",
    "      x (ndarray): Shape (n,) example with multiple features\n",
    "      w (ndarray): Shape (n,) model parameters    \n",
    "      b (scalar):  model parameter     \n",
    "      \n",
    "    Returns:\n",
    "      p (scalar):  prediction\n",
    "    \"\"\"\n",
    "    n = x.shape[0]\n",
    "    p = 0\n",
    "    for i in range(n):\n",
    "      p_i = x[i] * w[i]\n",
    "      p += p_i\n",
    "    p = p + b\n",
    "    return p"
   ]
  },
  {
   "cell_type": "code",
   "execution_count": 19,
   "metadata": {},
   "outputs": [
    {
     "name": "stdout",
     "output_type": "stream",
     "text": [
      "x_vec.shape: (4,), x_vec values: [2104    5    1   45]\n",
      "f_wb.shape: (), f_wb value: 459.9999976194083\n"
     ]
    }
   ],
   "source": [
    "x_vec = X_train[0, :]\n",
    "print(f\"x_vec.shape: {x_vec.shape}, x_vec values: {x_vec}\")\n",
    "\n",
    "f_wb= predict_single_loop(x_vec, w_init, b_init)\n",
    "print(f\"f_wb.shape: {f_wb.shape}, f_wb value: {f_wb}\")"
   ]
  },
  {
   "cell_type": "code",
   "execution_count": 17,
   "metadata": {},
   "outputs": [],
   "source": [
    "# Single prediction using vectorized operations\n",
    "\n",
    "def predict(x, w, b):\n",
    "    \"\"\"\n",
    "    single predict using linear regression\n",
    "    Args:\n",
    "      x (ndarray): Shape (n,) example with multiple features\n",
    "      w (ndarray): Shape (n,) model parameters   \n",
    "      b (scalar):             model parameter \n",
    "      \n",
    "    Returns:\n",
    "      p (scalar):  prediction\n",
    "    \"\"\"\n",
    "    p = np.dot(x,w) + b\n",
    "    return p"
   ]
  },
  {
   "cell_type": "code",
   "execution_count": 20,
   "metadata": {},
   "outputs": [
    {
     "name": "stdout",
     "output_type": "stream",
     "text": [
      "f_wb.shape: (), f_wb value: 459.9999976194083\n"
     ]
    }
   ],
   "source": [
    "# get a row from the training data\n",
    "x_vec = X_train[0, :]\n",
    "\n",
    "f_wb = predict(x_vec, w_init, b_init)\n",
    "print(f\"f_wb.shape: {f_wb.shape}, f_wb value: {f_wb}\")"
   ]
  },
  {
   "cell_type": "markdown",
   "metadata": {},
   "source": [
    "# Compute the cost with multiple variables"
   ]
  },
  {
   "cell_type": "code",
   "execution_count": 28,
   "metadata": {},
   "outputs": [],
   "source": [
    "def compute_cost(X, y, w, b): \n",
    "    \"\"\"\n",
    "    compute cost\n",
    "    Args:\n",
    "      X (ndarray (m,n)): Data, m examples with n features\n",
    "      y (ndarray (m,)) : target values\n",
    "      w (ndarray (n,)) : model parameters  \n",
    "      b (scalar)       : model parameter\n",
    "      \n",
    "    Returns:\n",
    "      cost (scalar): cost\n",
    "    \"\"\"\n",
    "    m = X.shape[0]\n",
    "    cost = 0.0\n",
    "    for i in range(m):                                \n",
    "        f_wb_i = np.dot(X[i], w) + b           #(n,)(n,) = scalar (see np.dot)\n",
    "        cost = cost + (f_wb_i - y[i])**2       #scalar\n",
    "    cost = cost / (2 * m)                      #scalar    \n",
    "    return cost"
   ]
  },
  {
   "cell_type": "code",
   "execution_count": 29,
   "metadata": {},
   "outputs": [
    {
     "name": "stdout",
     "output_type": "stream",
     "text": [
      "X_train.shape: (3, 4), \n",
      "X_train: [[2104    5    1   45]\n",
      " [1416    3    2   40]\n",
      " [ 852    2    1   36]]\n",
      "y_train.shape: (3,), \n",
      "y_train: [460 232 178]\n",
      "w_init.shape: (4,), \n",
      "w_init: [  0.39133535  18.75376741 -53.36032453 -26.42131618]\n",
      "b_init: 785.1811367994083\n",
      "cost at optimal w,b: 116.34766701431086\n"
     ]
    },
    {
     "data": {
      "text/plain": [
       "[None]"
      ]
     },
     "execution_count": 29,
     "metadata": {},
     "output_type": "execute_result"
    }
   ],
   "source": [
    "# compute cost for the training data\n",
    "print(f\"X_train.shape: {X_train.shape}, \\nX_train: {X_train}\") \n",
    "print(f\"y_train.shape: {y_train.shape}, \\ny_train: {y_train}\")\n",
    "print(f\"w_init.shape: {w_init.shape}, \\nw_init: {w_init}\")\n",
    "print(f\"b_init: {b_init}\")\n",
    "\n",
    "cost = compute_cost(X_train, y_train, w_init, b_init)\n",
    "[print(f\"cost at optimal w,b: {cost}\")]"
   ]
  },
  {
   "cell_type": "markdown",
   "metadata": {},
   "source": [
    "# Comput Gradient With Multiple Variables"
   ]
  },
  {
   "cell_type": "code",
   "execution_count": 35,
   "metadata": {},
   "outputs": [],
   "source": [
    "def compute_gradient(X, y, w, b):\n",
    "    \"\"\"\n",
    "    Computes the gradient for linear regression \n",
    "    Args:\n",
    "      X (ndarray (m,n)): Data, m examples with n features\n",
    "      y (ndarray (m,)) : target values\n",
    "      w (ndarray (n,)) : model parameters  \n",
    "      b (scalar)       : model parameter\n",
    "      \n",
    "    Returns:\n",
    "      dj_dw (ndarray (n,)): The gradient of the cost w.r.t. the parameters w. \n",
    "      dj_db (scalar):       The gradient of the cost w.r.t. the parameter b. \n",
    "    \"\"\"\n",
    "    m, n = X.shape\n",
    "    dj_dw = np.zeros((n))\n",
    "    dj_db = 0.\n",
    "    \n",
    "    for i in range(m):\n",
    "        err = (np.dot(X[i], w) + b) - y[i] \n",
    "        for j in range(n):\n",
    "            dj_dw[j] += err * X[i][j]\n",
    "        dj_db += err\n",
    "    dj_dw = dj_dw / m\n",
    "    dj_db = dj_db / m\n",
    "    \n",
    "    return dj_dw, dj_db"
   ]
  },
  {
   "cell_type": "code",
   "execution_count": 39,
   "metadata": {},
   "outputs": [
    {
     "name": "stdout",
     "output_type": "stream",
     "text": [
      "dj_dw at w_init: [-7503.65652136   -17.61421706    -8.80710761  -317.05586374]\n",
      "dj_db at b_init: -8.807107067258434\n"
     ]
    }
   ],
   "source": [
    "# compute and display the gradient for the training data\n",
    "dj_dw, dj_db = compute_gradient(X_train, y_train, w_init, b_init)\n",
    "print(f\"dj_dw at w_init: {dj_dw}\")\n",
    "print(f\"dj_db at b_init: {dj_db}\")"
   ]
  },
  {
   "cell_type": "markdown",
   "metadata": {},
   "source": [
    "# Gradient Descent With Multiple Variables"
   ]
  },
  {
   "cell_type": "code",
   "execution_count": 44,
   "metadata": {},
   "outputs": [],
   "source": [
    "def gradient_descent(X, y, w_in, b_in, cost_function, gradient_function, alpha, num_iters):\n",
    "    \"\"\"\n",
    "    Performs batch gradient descent to learn w and b. Updates w and b by taking \n",
    "    num_iters gradient steps with learning rate alpha\n",
    "    \n",
    "    Args:\n",
    "      X (ndarray (m,n))   : Data, m examples with n features\n",
    "      y (ndarray (m,))    : target values\n",
    "      w_in (ndarray (n,)) : initial model parameters  \n",
    "      b_in (scalar)       : initial model parameter\n",
    "      cost_function       : function to compute cost\n",
    "      gradient_function   : function to compute the gradient\n",
    "      alpha (float)       : Learning rate\n",
    "      num_iters (int)     : number of iterations to run gradient descent\n",
    "      \n",
    "    Returns:\n",
    "      w (ndarray (n,)) : Updated values of parameters \n",
    "      b (scalar)       : Updated value of parameter \n",
    "      \"\"\"\n",
    "\n",
    "    # An array to store the cost J and w at each iteration primarily for plotting a graph\n",
    "    cost_history = []\n",
    "    w = copy.deepcopy(w_in) # avoid modifying w within function \n",
    "    b = b_in \n",
    "    \n",
    "    for i in range(num_iters):\n",
    "        \n",
    "        # calculate the gradient and update the parameters\n",
    "        dj_dw, dj_db = gradient_function(X, y, w, b)\n",
    "        \n",
    "        #update w and b \n",
    "        w = w - alpha * dj_dw\n",
    "        b = b - alpha * dj_db\n",
    "        \n",
    "        # Store the cost J for visualization\n",
    "        if i < 1000000: # limit the size of the cost_history\n",
    "          cost = cost_function(X, y, w, b)\n",
    "          cost_history.append(cost)\n",
    "        \n",
    "        # Print the cost every 10 time or as many iterations if less than 10\n",
    "        if i % math.ceil(num_iters/10) == 0:\n",
    "            print(f\"Iteration {i:4d}: Cost {cost_history[-1]:8.2f}   \")\n",
    "    return w, b, cost_history\n",
    "        \n",
    "    "
   ]
  },
  {
   "cell_type": "code",
   "execution_count": 45,
   "metadata": {},
   "outputs": [
    {
     "name": "stdout",
     "output_type": "stream",
     "text": [
      "Iteration    0: Cost  2529.59   \n",
      "Iteration  100: Cost   696.01   \n",
      "Iteration  200: Cost   694.97   \n",
      "Iteration  300: Cost   693.94   \n",
      "Iteration  400: Cost   692.91   \n",
      "Iteration  500: Cost   691.90   \n",
      "Iteration  600: Cost   690.90   \n",
      "Iteration  700: Cost   689.91   \n",
      "Iteration  800: Cost   688.92   \n",
      "Iteration  900: Cost   687.95   \n",
      "b,w found by gradient descent: -0.00, [ 0.20394608  0.00374951 -0.01124835 -0.06478118]\n",
      "y_hat(prediction): 426.19, y(target): 460\n",
      "y_hat(prediction): 286.18, y(target): 232\n",
      "y_hat(prediction): 171.42, y(target): 178\n"
     ]
    }
   ],
   "source": [
    "# initialize parameters \n",
    "initial_w = np.zeros_like(w_init)\n",
    "initial_b = 0.\n",
    "\n",
    "# some gradient descent settings\n",
    "iterations = 1000\n",
    "alpha = 5.0e-7\n",
    "# Run gradient descent\n",
    "w_final, b_final, cost_history = gradient_descent(X_train, y_train, initial_w, initial_b, compute_cost, compute_gradient, alpha, iterations)\n",
    "\n",
    "print(f\"b,w found by gradient descent: {b_final:0.2f}, {w_final}\")\n",
    "\n",
    "m,n = X_train.shape\n",
    "for i in range(m):\n",
    "    y_hat = np.dot(X_train[i], w_final) + b_final\n",
    "    print(f\"y_hat(prediction): {y_hat:0.2f}, y(target): {y_train[i]}\")\n",
    "    "
   ]
  },
  {
   "cell_type": "code",
   "execution_count": 50,
   "metadata": {},
   "outputs": [
    {
     "data": {
      "image/png": "[encoded data removed]",
      "text/plain": [
       "<Figure size 1200x400 with 2 Axes>"
      ]
     },
     "metadata": {},
     "output_type": "display_data"
    }
   ],
   "source": [
    "# plot cost versus iteration  \n",
    "fig, (ax1, ax2) = plt.subplots(1, 2, constrained_layout=True, figsize=(12, 4))\n",
    "ax1.plot(cost_history)\n",
    "ax2.plot(100 + np.arange(len(cost_history[100:])), cost_history[100:])\n",
    "ax1.set_title(\"Cost vs. iteration\");  ax2.set_title(\"Cost vs. iteration (tail)\")\n",
    "ax1.set_ylabel('Cost')             ;  ax2.set_ylabel('Cost') \n",
    "ax1.set_xlabel('iteration step')   ;  ax2.set_xlabel('iteration step') \n",
    "plt.show()"
   ]
  },
  {
   "cell_type": "markdown",
   "metadata": {},
   "source": [
    "# In this notebook you:\n",
    "\n",
    "-Redeveloped the routines for linear regression, now with multiple variables.\n",
    "-Utilized NumPy np.dot to vectorize the implementations"
   ]
  },
  {
   "cell_type": "markdown",
   "metadata": {},
   "source": []
  }
 ],
 "metadata": {
  "kernelspec": {
   "display_name": "Python 3",
   "language": "python",
   "name": "python3"
  },
  "language_info": {
   "codemirror_mode": {
    "name": "ipython",
    "version": 3
   },
   "file_extension": ".py",
   "mimetype": "text/x-python",
   "name": "python",
   "nbconvert_exporter": "python",
   "pygments_lexer": "ipython3",
   "version": "3.12.4"
  }
 },
 "nbformat": 4,
 "nbformat_minor": 2
}
